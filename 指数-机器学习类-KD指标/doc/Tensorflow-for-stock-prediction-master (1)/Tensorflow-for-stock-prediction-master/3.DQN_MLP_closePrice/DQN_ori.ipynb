{
 "cells": [
  {
   "cell_type": "markdown",
   "metadata": {},
   "source": [
    "# 參考自 https://zhuanlan.zhihu.com/p/21477488"
   ]
  },
  {
   "cell_type": "code",
   "execution_count": 1,
   "metadata": {
    "collapsed": true
   },
   "outputs": [],
   "source": [
    "import tensorflow as tf\n",
    "import numpy as np\n",
    "import random\n",
    "from collections import deque\n",
    "\n",
    "from yahoo_finance import Share\n",
    "import datetime"
   ]
  },
  {
   "cell_type": "code",
   "execution_count": 2,
   "metadata": {
    "collapsed": true
   },
   "outputs": [],
   "source": [
    "day_len = 15   # 每筆資料的日期天數"
   ]
  },
  {
   "cell_type": "code",
   "execution_count": 3,
   "metadata": {
    "collapsed": false
   },
   "outputs": [
    {
     "name": "stdout",
     "output_type": "stream",
     "text": [
      "歷史資料筆數 418\n"
     ]
    }
   ],
   "source": [
    "stock = Share('2330.TW')\n",
    "today = datetime.date.today()\n",
    "stock_data = stock.get_historical('2015-01-01', str(today))\n",
    "print '歷史資料筆數' , len(stock_data)\n",
    "stock_data.reverse() # 反轉資料"
   ]
  },
  {
   "cell_type": "code",
   "execution_count": 4,
   "metadata": {
    "collapsed": false
   },
   "outputs": [
    {
     "name": "stdout",
     "output_type": "stream",
     "text": [
      "去除0交易量的資料筆數 387\n"
     ]
    }
   ],
   "source": [
    "# 清除歷史中的無交易資料\n",
    "i = 0\n",
    "while( i < len(stock_data)):\n",
    "    if (int(stock_data[i].get('Volume')) <= 0):\n",
    "        stock_data.remove(stock_data[i])\n",
    "        i = -1\n",
    "    i += 1\n",
    "print '去除0交易量的資料筆數', len(stock_data)"
   ]
  },
  {
   "cell_type": "code",
   "execution_count": 5,
   "metadata": {
    "collapsed": false
   },
   "outputs": [
    {
     "data": {
      "text/plain": [
       "array([[ 0.,  0.,  0., ...,  0.,  0.,  0.],\n",
       "       [ 0.,  0.,  0., ...,  0.,  0.,  0.],\n",
       "       [ 0.,  0.,  0., ...,  0.,  0.,  0.],\n",
       "       ..., \n",
       "       [ 0.,  0.,  0., ...,  0.,  0.,  0.],\n",
       "       [ 0.,  0.,  0., ...,  0.,  0.,  0.],\n",
       "       [ 0.,  0.,  0., ...,  0.,  0.,  0.]])"
      ]
     },
     "execution_count": 5,
     "metadata": {},
     "output_type": "execute_result"
    }
   ],
   "source": [
    "my_train = np.zeros((len(stock_data)-day_len, day_len), dtype=np.float)\n",
    "my_train"
   ]
  },
  {
   "cell_type": "markdown",
   "metadata": {},
   "source": [
    "### 設定訓練資料"
   ]
  },
  {
   "cell_type": "code",
   "execution_count": 6,
   "metadata": {
    "collapsed": false
   },
   "outputs": [
    {
     "name": "stdout",
     "output_type": "stream",
     "text": [
      "[[ 139.5  133.5  134.  ...,  141.   140.   145. ]\n",
      " [ 133.5  134.   138.  ...,  140.   145.   145. ]\n",
      " [ 134.   138.   134.  ...,  145.   145.   147. ]\n",
      " ..., \n",
      " [ 169.5  170.5  170.  ...,  172.5  174.5  177. ]\n",
      " [ 170.5  170.   172.  ...,  174.5  177.   178. ]\n",
      " [ 170.   172.   171.  ...,  177.   178.   178.5]]\n"
     ]
    }
   ],
   "source": [
    "for i in range(0, len(my_train)):\n",
    "    for j in range(0, day_len):\n",
    "        my_train[i,j] = float(stock_data[i+j].get('Close'))\n",
    "        #my_train[i,j] = data_rsi[i+j]\n",
    "print my_train"
   ]
  },
  {
   "cell_type": "code",
   "execution_count": 7,
   "metadata": {
    "collapsed": true
   },
   "outputs": [],
   "source": [
    "class TWStock():\n",
    "    def __init__(self, stock_data):\n",
    "        self.stock_data = stock_data\n",
    "        self.stock_index = 0\n",
    "    \n",
    "    def render(self):\n",
    "        # 尚未實作\n",
    "        return \n",
    "    \n",
    "    def reset(self):\n",
    "        self.stock_index = 0\n",
    "        return self.stock_data[self.stock_index]\n",
    "    \n",
    "    # 0: 觀望, 1: 持有多單, 2: 持有空單\n",
    "    def step(self, action): \n",
    "        self.stock_index += 1\n",
    "        action_reward = self.stock_data[self.stock_index][day_len-1] - self.stock_data[self.stock_index][day_len-2] \n",
    "        if (action == 0):\n",
    "            action_reward = 0\n",
    "        if (action == 2):\n",
    "            action_reward = -1 * action_reward\n",
    "\n",
    "        stock_done = False\n",
    "        if self.stock_index >= len(self.stock_data)-1:\n",
    "            stock_done = True\n",
    "        else:\n",
    "            stock_done = False\n",
    "        return self.stock_data[self.stock_index], action_reward, stock_done, 0"
   ]
  },
  {
   "cell_type": "markdown",
   "metadata": {},
   "source": [
    "### 載入資料"
   ]
  },
  {
   "cell_type": "code",
   "execution_count": 8,
   "metadata": {
    "collapsed": false
   },
   "outputs": [
    {
     "name": "stdout",
     "output_type": "stream",
     "text": [
      "開始執行\n",
      "episode:  0 Evaluation Average Reward: 0\n",
      "episode:  100 Evaluation Average Reward: -14.5\n",
      "episode:  200 Evaluation Average Reward: -12.0\n",
      "episode:  300 Evaluation Average Reward: -12.5\n",
      "episode:  400 Evaluation Average Reward: -18.5\n",
      "episode:  500 Evaluation Average Reward: -27.0\n",
      "episode:  600 Evaluation Average Reward: -5.0\n",
      "episode:  700 Evaluation Average Reward: 27.5\n",
      "episode:  800 Evaluation Average Reward: 15.0\n",
      "episode:  900 Evaluation Average Reward: 37.5\n",
      "episode:  1000 Evaluation Average Reward: 32.0\n",
      "episode:  1100 Evaluation Average Reward: 57.0\n",
      "episode:  1200 Evaluation Average Reward: 33.5\n",
      "episode:  1300 Evaluation Average Reward: 53.0\n",
      "episode:  1400 Evaluation Average Reward: 49.5\n",
      "episode:  1500 Evaluation Average Reward: 36.0\n",
      "episode:  1600 Evaluation Average Reward: 93.0\n",
      "episode:  1700 Evaluation Average Reward: 63.5\n",
      "episode:  1800 Evaluation Average Reward: 74.5\n",
      "episode:  1900 Evaluation Average Reward: 59.5\n",
      "episode:  2000 Evaluation Average Reward: 103.5\n",
      "episode:  2100 Evaluation Average Reward: 61.5\n",
      "episode:  2200 Evaluation Average Reward: 56.5\n",
      "episode:  2300 Evaluation Average Reward: 115.0\n",
      "episode:  2400 Evaluation Average Reward: 81.5\n",
      "episode:  2500 Evaluation Average Reward: 98.0\n",
      "episode:  2600 Evaluation Average Reward: 60.0\n",
      "episode:  2700 Evaluation Average Reward: 72.0\n",
      "episode:  2800 Evaluation Average Reward: 93.0\n",
      "episode:  2900 Evaluation Average Reward: 102.0\n",
      "episode:  3000 Evaluation Average Reward: 106.0\n",
      "episode:  3100 Evaluation Average Reward: 111.0\n",
      "episode:  3200 Evaluation Average Reward: 130.5\n",
      "episode:  3300 Evaluation Average Reward: 110.0\n",
      "episode:  3400 Evaluation Average Reward: 110.0\n",
      "episode:  3500 Evaluation Average Reward: 111.5\n",
      "episode:  3600 Evaluation Average Reward: 47.5\n",
      "episode:  3700 Evaluation Average Reward: 102.0\n",
      "episode:  3800 Evaluation Average Reward: 96.0\n",
      "episode:  3900 Evaluation Average Reward: 79.0\n",
      "episode:  4000 Evaluation Average Reward: 117.5\n",
      "episode:  4100 Evaluation Average Reward: 97.0\n",
      "episode:  4200 Evaluation Average Reward: 65.0\n",
      "episode:  4300 Evaluation Average Reward: 113.5\n",
      "episode:  4400 Evaluation Average Reward: 119.5\n",
      "episode:  4500 Evaluation Average Reward: 119.5\n",
      "episode:  4600 Evaluation Average Reward: 118.5\n",
      "episode:  4700 Evaluation Average Reward: 109.0\n",
      "episode:  4800 Evaluation Average Reward: 118.0\n",
      "episode:  4900 Evaluation Average Reward: 133.0\n",
      "episode:  5000 Evaluation Average Reward: 97.0\n",
      "episode:  5100 Evaluation Average Reward: 115.5\n",
      "episode:  5200 Evaluation Average Reward: 113.0\n",
      "episode:  5300 Evaluation Average Reward: 114.5\n",
      "episode:  5400 Evaluation Average Reward: 127.0\n",
      "episode:  5500 Evaluation Average Reward: 112.0\n",
      "episode:  5600 Evaluation Average Reward: 118.0\n",
      "episode:  5700 Evaluation Average Reward: 92.0\n",
      "episode:  5800 Evaluation Average Reward: 117.5\n",
      "episode:  5900 Evaluation Average Reward: 129.5\n",
      "episode:  6000 Evaluation Average Reward: 101.5\n",
      "episode:  6100 Evaluation Average Reward: 63.5\n",
      "episode:  6200 Evaluation Average Reward: 100.0\n",
      "episode:  6300 Evaluation Average Reward: 138.5\n",
      "episode:  6400 Evaluation Average Reward: 127.5\n",
      "episode:  6500 Evaluation Average Reward: 133.0\n",
      "episode:  6600 Evaluation Average Reward: 91.0\n",
      "episode:  6700 Evaluation Average Reward: 129.5\n",
      "episode:  6800 Evaluation Average Reward: 144.5\n",
      "episode:  6900 Evaluation Average Reward: 107.0\n",
      "episode:  7000 Evaluation Average Reward: 139.0\n",
      "episode:  7100 Evaluation Average Reward: 112.0\n",
      "episode:  7200 Evaluation Average Reward: 128.0\n",
      "episode:  7300 Evaluation Average Reward: 125.5\n",
      "episode:  7400 Evaluation Average Reward: 131.0\n",
      "episode:  7500 Evaluation Average Reward: 151.0\n",
      "episode:  7600 Evaluation Average Reward: 140.0\n",
      "episode:  7700 Evaluation Average Reward: 115.5\n",
      "episode:  7800 Evaluation Average Reward: 141.5\n",
      "episode:  7900 Evaluation Average Reward: 137.5\n",
      "episode:  8000 Evaluation Average Reward: 128.0\n",
      "episode:  8100 Evaluation Average Reward: 72.5\n",
      "episode:  8200 Evaluation Average Reward: 111.5\n",
      "episode:  8300 Evaluation Average Reward: 132.5\n",
      "episode:  8400 Evaluation Average Reward: 123.0\n",
      "episode:  8500 Evaluation Average Reward: 104.5\n",
      "episode:  8600 Evaluation Average Reward: 136.5\n",
      "episode:  8700 Evaluation Average Reward: 125.5\n",
      "episode:  8800 Evaluation Average Reward: 120.5\n",
      "episode:  8900 Evaluation Average Reward: 130.5\n",
      "episode:  9000 Evaluation Average Reward: 138.5\n",
      "episode:  9100 Evaluation Average Reward: 146.0\n",
      "episode:  9200 Evaluation Average Reward: 131.5\n",
      "episode:  9300 Evaluation Average Reward: 159.0\n",
      "episode:  9400 Evaluation Average Reward: 137.0\n",
      "episode:  9500 Evaluation Average Reward: 112.5\n",
      "episode:  9600 Evaluation Average Reward: 134.0\n",
      "episode:  9700 Evaluation Average Reward: 125.5\n",
      "episode:  9800 Evaluation Average Reward: 137.0\n",
      "episode:  9900 Evaluation Average Reward: 136.5\n"
     ]
    }
   ],
   "source": [
    "# Hyper Parameters for DQN\n",
    "GAMMA = 0.9 # discount factor for target Q\n",
    "INITIAL_EPSILON = 0.5 # starting value of epsilon\n",
    "FINAL_EPSILON = 0.01 # final value of epsilon\n",
    "REPLAY_SIZE = 10000 # experience replay buffer size\n",
    "BATCH_SIZE = 32 # size of minibatch\n",
    "\n",
    "class DQN():\n",
    "  # DQN Agent\n",
    "  def __init__(self, env):\n",
    "    # init experience replay\n",
    "    self.replay_buffer = deque()\n",
    "\n",
    "    # init some parameters\n",
    "    self.time_step = 0\n",
    "    self.epsilon = INITIAL_EPSILON\n",
    "    \n",
    "    #self.state_dim = env.observation_space.shape[0]\n",
    "    #self.action_dim = env.action_space.n\n",
    "    \n",
    "    self.state_dim = day_len\n",
    "    self.action_dim = 3\n",
    "\n",
    "\n",
    "    self.create_Q_network()\n",
    "    self.create_training_method()\n",
    "\n",
    "    # Init session\n",
    "    self.session = tf.InteractiveSession()\n",
    "    self.session.run(tf.initialize_all_variables())\n",
    "\n",
    "  def create_Q_network(self):\n",
    "    # network weights\n",
    "    W1 = self.weight_variable([self.state_dim, 20])\n",
    "    b1 = self.bias_variable([20])\n",
    "    W2 = self.weight_variable([20, self.action_dim])\n",
    "    b2 = self.bias_variable([self.action_dim])\n",
    "    # input layer\n",
    "    self.state_input = tf.placeholder(\"float\",[None,self.state_dim])\n",
    "    # hidden layers\n",
    "    h_layer = tf.nn.relu(tf.matmul(self.state_input,W1) + b1)\n",
    "    # Q Value layer\n",
    "    self.Q_value = tf.matmul(h_layer,W2) + b2\n",
    "\n",
    "  def create_training_method(self):\n",
    "    self.action_input = tf.placeholder(\"float\",[None,self.action_dim])\n",
    "    # one hot presentation\n",
    "    self.y_input = tf.placeholder(\"float\",[None])\n",
    "    Q_action = tf.reduce_sum(tf.mul(self.Q_value,self.action_input),reduction_indices = 1)\n",
    "    self.cost = tf.reduce_mean(tf.square(self.y_input - Q_action))\n",
    "    #self.optimizer = tf.train.AdamOptimizer(0.0001).minimize(self.cost)\n",
    "    self.optimizer = tf.train.RMSPropOptimizer(0.01,0.1).minimize(self.cost)\n",
    "  def perceive(self,state,action,reward,next_state,done):\n",
    "    one_hot_action = np.zeros(self.action_dim)\n",
    "    one_hot_action[action] = 1\n",
    "    self.replay_buffer.append((state,one_hot_action,reward,next_state,done))\n",
    "\n",
    "    if len(self.replay_buffer) > REPLAY_SIZE:\n",
    "      self.replay_buffer.popleft()\n",
    "\n",
    "    if len(self.replay_buffer) > BATCH_SIZE:\n",
    "      self.train_Q_network()\n",
    "\n",
    "  def train_Q_network(self):\n",
    "    self.time_step += 1\n",
    "\n",
    "    # Step 1: obtain random minibatch from replay memory\n",
    "    minibatch = random.sample(self.replay_buffer,BATCH_SIZE)\n",
    "    state_batch = [data[0] for data in minibatch]\n",
    "    action_batch = [data[1] for data in minibatch]\n",
    "    reward_batch = [data[2] for data in minibatch]\n",
    "    next_state_batch = [data[3] for data in minibatch]\n",
    "\n",
    "    # Step 2: calculate y\n",
    "    y_batch = []\n",
    "    Q_value_batch = self.Q_value.eval(feed_dict={self.state_input:next_state_batch})\n",
    "\n",
    "    for i in range(0,BATCH_SIZE):\n",
    "        done = minibatch[i][4]\n",
    "        if done:\n",
    "            y_batch.append(reward_batch[i])\n",
    "        else :\n",
    "            y_batch.append(reward_batch[i] + GAMMA * np.max(Q_value_batch[i]))\n",
    "\n",
    "    self.optimizer.run(feed_dict={\n",
    "      self.y_input:y_batch,\n",
    "      self.action_input:action_batch,\n",
    "      self.state_input:state_batch\n",
    "      })\n",
    "\n",
    "\n",
    "  def egreedy_action(self,state):\n",
    "    Q_value = self.Q_value.eval(feed_dict = {\n",
    "      self.state_input:[state]})[0]\n",
    "    if random.random() <= self.epsilon:\n",
    "      return random.randint(0,self.action_dim - 1)\n",
    "    else:\n",
    "      return np.argmax(Q_value)\n",
    "\n",
    "    self.epsilon -= (INITIAL_EPSILON - FINAL_EPSILON)/10000\n",
    "\n",
    "\n",
    "  def action(self,state):\n",
    "    return np.argmax(self.Q_value.eval(feed_dict = {\n",
    "      self.state_input:[state]})[0])\n",
    "\n",
    "\n",
    "  def weight_variable(self,shape):\n",
    "    initial = tf.truncated_normal(shape)\n",
    "    return tf.Variable(initial)\n",
    "\n",
    "  def bias_variable(self,shape):\n",
    "    initial = tf.constant(0.01, shape = shape)\n",
    "    return tf.Variable(initial)\n",
    "\n",
    "# ---------------------------------------------------------\n",
    " # Hyper Parameters\n",
    "ENV_NAME = 'CartPole-v0'\n",
    "EPISODE = 10000 # Episode limitation\n",
    "STEP = 1000   #300 # Step limitation in an episode\n",
    "TEST = 10 # The number of experiment test every 100 episode\n",
    "\n",
    "\n",
    "def main():\n",
    "\n",
    "  # initialize OpenAI Gym env and dqn agent\n",
    "  #env = gym.make(ENV_NAME)\n",
    "  env = TWStock(my_train) \n",
    "  agent = DQN(env)\n",
    "\n",
    "  print '開始執行'\n",
    "  for episode in xrange(EPISODE):\n",
    "    \n",
    "    # initialize task\n",
    "    state = env.reset()\n",
    "\n",
    "    # Train\n",
    "    for step in xrange(STEP):\n",
    "      action = agent.egreedy_action(state) # e-greedy action for trai\n",
    "        \n",
    "      next_state,reward,done,_ = env.step(action)\n",
    "    \n",
    "      # Define reward for agent\n",
    "      reward_agent = -1 if done else 0.1\n",
    "      agent.perceive(state,action,reward,next_state,done)\n",
    "      state = next_state\n",
    "      if done:\n",
    "        break\n",
    " \n",
    "    # Test every 100 episodes\n",
    "    if episode % 100 == 0:\n",
    "      total_reward = 0\n",
    "\n",
    "      for i in xrange(TEST):\n",
    "        state = env.reset()\n",
    "\n",
    "        for j in xrange(STEP):\n",
    "          env.render()\n",
    "          action = agent.action(state)   # direct action for test\n",
    "          state,reward,done,_ = env.step(action)\n",
    "          total_reward += reward\n",
    "          if done:\n",
    "            break\n",
    "\n",
    "      ave_reward = total_reward/TEST\n",
    "      print 'episode: ',episode,'Evaluation Average Reward:',ave_reward\n",
    "      if ave_reward >= 200:\n",
    "        print '程式結束' \n",
    "        break\n",
    "    \n",
    "\n",
    "if __name__ == '__main__':\n",
    "  main()"
   ]
  },
  {
   "cell_type": "code",
   "execution_count": null,
   "metadata": {
    "collapsed": false
   },
   "outputs": [],
   "source": []
  }
 ],
 "metadata": {
  "kernelspec": {
   "display_name": "Python 2",
   "language": "python",
   "name": "python2"
  },
  "language_info": {
   "codemirror_mode": {
    "name": "ipython",
    "version": 2
   },
   "file_extension": ".py",
   "mimetype": "text/x-python",
   "name": "python",
   "nbconvert_exporter": "python",
   "pygments_lexer": "ipython2",
   "version": "2.7.6"
  }
 },
 "nbformat": 4,
 "nbformat_minor": 0
}
