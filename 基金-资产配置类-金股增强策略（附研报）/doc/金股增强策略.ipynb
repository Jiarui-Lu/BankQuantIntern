{
 "cells": [
  {
   "cell_type": "code",
   "execution_count": 1,
   "metadata": {},
   "outputs": [],
   "source": [
    "from typing import Dict, List, Tuple, Union\n",
    "\n",
    "import empyrical as ep\n",
    "import matplotlib as mpl\n",
    "import matplotlib.pyplot as plt\n",
    "import numpy as np\n",
    "import pandas as pd\n",
    "import seaborn as sns\n",
    "from jqdata import *\n",
    "from sqlalchemy.sql import func\n",
    "\n",
    "plt.rcParams[\"font.sans-serif\"]=[\"SimHei\"] #设置字体\n",
    "plt.rcParams[\"axes.unicode_minus\"]=False #该语句解决图像中的“-”负号的乱码问题\n",
    "\n",
    "from scr import (\n",
    "    PrepareData,\n",
    "    TradeDays,\n",
    "    get_author_proba,\n",
    "    get_stock_group_returns,\n",
    "    load_gold_stock_csv,\n",
    "    transform2stock_group,\n",
    "    view_author_stock,\n",
    ")\n",
    "\n",
    "td = TradeDays()"
   ]
  },
  {
   "cell_type": "markdown",
   "metadata": {},
   "source": [
    "# 数据介绍\n",
    "\n",
    "金股数据说明:end_date为金股的截至日(即券商推荐的金股有效期),write_date为公告日(即对应券商在微信公众号、研报等推送的时间),通过write_date我们可以看到金股组合大多数是在上月低和当月出发布出来。\n",
    "\n",
    "**\\统计分析时next_return使用的是$\\frac{close}{close_{t-1}}-1$与end_date对齐的方式进行统计分析。**"
   ]
  },
  {
   "cell_type": "code",
   "execution_count": 2,
   "metadata": {},
   "outputs": [
    {
     "data": {
      "text/html": [
       "<div>\n",
       "<style scoped>\n",
       "    .dataframe tbody tr th:only-of-type {\n",
       "        vertical-align: middle;\n",
       "    }\n",
       "\n",
       "    .dataframe tbody tr th {\n",
       "        vertical-align: top;\n",
       "    }\n",
       "\n",
       "    .dataframe thead th {\n",
       "        text-align: right;\n",
       "    }\n",
       "</style>\n",
       "<table border=\"1\" class=\"dataframe\">\n",
       "  <thead>\n",
       "    <tr style=\"text-align: right;\">\n",
       "      <th></th>\n",
       "      <th>author</th>\n",
       "      <th>sw_l3</th>\n",
       "      <th>org_name</th>\n",
       "      <th>code</th>\n",
       "      <th>end_date</th>\n",
       "      <th>write_date</th>\n",
       "      <th>sec_short_name</th>\n",
       "    </tr>\n",
       "  </thead>\n",
       "  <tbody>\n",
       "    <tr>\n",
       "      <th>0</th>\n",
       "      <td>张云凯</td>\n",
       "      <td>住宅开发</td>\n",
       "      <td>东北证券</td>\n",
       "      <td>000656.XSHE</td>\n",
       "      <td>2018-01-31</td>\n",
       "      <td>2017-12-28</td>\n",
       "      <td>金科股份</td>\n",
       "    </tr>\n",
       "    <tr>\n",
       "      <th>1</th>\n",
       "      <td>李俊峰</td>\n",
       "      <td>种子</td>\n",
       "      <td>东北证券</td>\n",
       "      <td>000998.XSHE</td>\n",
       "      <td>2018-01-31</td>\n",
       "      <td>2017-12-28</td>\n",
       "      <td>隆平高科</td>\n",
       "    </tr>\n",
       "    <tr>\n",
       "      <th>2</th>\n",
       "      <td>李瑶</td>\n",
       "      <td>种子</td>\n",
       "      <td>东北证券</td>\n",
       "      <td>000998.XSHE</td>\n",
       "      <td>2018-01-31</td>\n",
       "      <td>2017-12-28</td>\n",
       "      <td>隆平高科</td>\n",
       "    </tr>\n",
       "    <tr>\n",
       "      <th>3</th>\n",
       "      <td>张云凯</td>\n",
       "      <td>商业地产</td>\n",
       "      <td>东北证券</td>\n",
       "      <td>001979.XSHE</td>\n",
       "      <td>2018-01-31</td>\n",
       "      <td>2017-12-28</td>\n",
       "      <td>招商蛇口</td>\n",
       "    </tr>\n",
       "    <tr>\n",
       "      <th>4</th>\n",
       "      <td>李恒光</td>\n",
       "      <td>底盘与发动机系统</td>\n",
       "      <td>东北证券</td>\n",
       "      <td>002126.XSHE</td>\n",
       "      <td>2018-01-31</td>\n",
       "      <td>2017-12-28</td>\n",
       "      <td>银轮股份</td>\n",
       "    </tr>\n",
       "  </tbody>\n",
       "</table>\n",
       "</div>"
      ],
      "text/plain": [
       "  author     sw_l3 org_name      ...         end_date write_date sec_short_name\n",
       "0    张云凯      住宅开发     东北证券      ...       2018-01-31 2017-12-28           金科股份\n",
       "1    李俊峰        种子     东北证券      ...       2018-01-31 2017-12-28           隆平高科\n",
       "2     李瑶        种子     东北证券      ...       2018-01-31 2017-12-28           隆平高科\n",
       "3    张云凯      商业地产     东北证券      ...       2018-01-31 2017-12-28           招商蛇口\n",
       "4    李恒光  底盘与发动机系统     东北证券      ...       2018-01-31 2017-12-28           银轮股份\n",
       "\n",
       "[5 rows x 7 columns]"
      ]
     },
     "execution_count": 2,
     "metadata": {},
     "output_type": "execute_result"
    }
   ],
   "source": [
    "# 获取金股数据\n",
    "gold_stock_frame:pd.DataFrame = load_gold_stock_csv()\n",
    "# 过滤北交所\n",
    "cond = (gold_stock_frame['code'] != \"835185.XSHG\")\n",
    "gold_stock_frame = gold_stock_frame[cond]\n",
    "gold_stock_frame.head()"
   ]
  },
  {
   "cell_type": "markdown",
   "metadata": {},
   "source": [
    "由下图可知道**平均write_date日在每月的第3-4个交易日即全部发布完毕,所以在回测时在每月的第三个交易日进行调仓轮动。**"
   ]
  },
  {
   "cell_type": "code",
   "execution_count": 4,
   "metadata": {},
   "outputs": [
    {
     "name": "stdout",
     "output_type": "stream",
     "text": [
      "平均在当月的第3.53发布\n"
     ]
    },
    {
     "data": {
      "image/png": "[encoded data removed]",
      "text/plain": [
       "<Figure size 1296x288 with 1 Axes>"
      ]
     },
     "metadata": {
      "needs_background": "light"
     },
     "output_type": "display_data"
    }
   ],
   "source": [
    "stats_write_date = gold_stock_frame.groupby('end_date')['write_date'].max()\n",
    "stats_write_date = stats_write_date.to_frame()\n",
    "stats_write_date.columns = ['write_date']\n",
    "stats_write_date['DayOfMonth'] = stats_write_date['write_date'].apply(lambda x:td.tradeday_of_month(x))\n",
    "\n",
    "stats_write_date.index = stats_write_date.index.strftime('%Y-%m')\n",
    "fig,ax = plt.subplots(figsize=(18,4))\n",
    "bar_ax = ax.bar(stats_write_date.index,stats_write_date['DayOfMonth'])\n",
    "\n",
    "max_idx = stats_write_date.index.get_loc(stats_write_date['DayOfMonth'].idxmax())\n",
    "bar_ax[max_idx].set_color('red')\n",
    "avg_num:float = stats_write_date['DayOfMonth'].mean()\n",
    "ax.axhline(avg_num,color='darkgray',ls='--')\n",
    "plt.xticks(rotation=90);\n",
    "\n",
    "print(f'平均在当月的第{round(avg_num,2)}发布')"
   ]
  },
  {
   "cell_type": "markdown",
   "metadata": {},
   "source": [
    "# 金股推荐历史量化处理\n",
    "\n",
    "使用Beta分布定量记录分析师金股推荐历史。假设，对于分析师的真实选股能力，没有先验知识。因此，每个分析师初始的Beta分布中，α = β = 1，此情况下，分析师推荐成功率在[0,1]上均匀分布。当分析师推荐金股成功时，即推荐月份的股票涨幅>0时，参数𝛼更新为𝛼 + 1。反之，当推荐失败时，参数𝛽更新为𝛽 + 1。\n",
    "\n",
    "Beta 分布的期望:\n",
    "$\\mu=E(x)=\\frac{\\alpha}{\\alpha+\\beta}$\n",
    "\n",
    "# 基于推荐成功概率分布构建金股组合\n",
    "\n",
    "1. 股票池：当月所有券商推荐的金股，无其它筛选条件。\n",
    "2. 组合构建流程：\n",
    "    - 获取当月所有券商推荐的金股及推荐金股的分析师信息；\n",
    "    - 查询金股数据库，获取当月推荐金股的每一位分析师的定量指标；\n",
    "    - 对分析师定量指标进行排序，分为 5 组，并构建相应的 5 个等权金股组合；\n",
    "    - 每月末重复上述操作并调仓；\n",
    "    - 回测时段：2020 年 1 月至 2022 年 8 月\n",
    "    - 调仓周期：月度调仓\n"
   ]
  },
  {
   "cell_type": "code",
   "execution_count": 6,
   "metadata": {},
   "outputs": [
    {
     "name": "stdout",
     "output_type": "stream",
     "text": [
      "证券代码:000043.XSHE,2022-08-31未查询到sw_l1行业名称\n"
     ]
    }
   ],
   "source": [
    "# 获取初始数据\n",
    "prepare_data = PrepareData(gold_stock_frame,'2017-12-01','2022-08-31')\n",
    "prepare_data.init_data()\n",
    "prepare_data.get_forward_returns()\n",
    "all_data:pd.DataFrame = prepare_data.full_data()\n",
    "\n",
    "# 获取分析师推荐概率\n",
    "params:Dict = {\n",
    "              'returns_name':'industry_excess', # 使用行业超额计算分析师推荐概率\n",
    "              'window':12, # 分析师近window月有推荐股票且推荐次数不少于等于threshold次\n",
    "              'threshold':5, \n",
    "              'beta_window':12 # beta分布滚动计算期\n",
    "              }\n",
    "author_proba:pd.DataFrame = get_author_proba(all_data,**params)\n",
    "# 获取分析师组合\n",
    "author_proflio:pd.DataFrame = transform2stock_group(author_proba,prepare_data.gold_stock_frame,group_num=5)\n",
    "# 计算组合月度收益率\n",
    "returns:pd.DataFrame =get_stock_group_returns(author_proflio,prepare_data.next_returns)"
   ]
  },
  {
   "cell_type": "code",
   "execution_count": 19,
   "metadata": {},
   "outputs": [
    {
     "data": {
      "text/plain": [
       "<Figure size 1296x360 with 0 Axes>"
      ]
     },
     "metadata": {},
     "output_type": "display_data"
    },
    {
     "data": {
      "image/png": "[encoded data removed]",
      "text/plain": [
       "<Figure size 1296x288 with 2 Axes>"
      ]
     },
     "metadata": {
      "needs_background": "light"
     },
     "output_type": "display_data"
    }
   ],
   "source": [
    "cum_frame = ep.cum_returns(returns.loc[\"2020-01-01\":])\n",
    "plt.figure(figsize=(18,5))\n",
    "\n",
    "fig,axes = plt.subplots(1,2,figsize=(18,4))\n",
    "bar_ax = axes[1].bar(cum_frame.iloc[-1].index,cum_frame.iloc[-1].values)\n",
    "bar_ax[4].set_color('red')\n",
    "axes[1].set_title('各组合月均收益率')\n",
    "axes[0].set_title('基于统计期推荐成功率分组测试')\n",
    "line_ax = sns.lineplot(data=cum_frame,palette='OrRd',dashes=False,ax=axes[0])\n",
    "\n",
    "def mjrFormatter(x, pos):\n",
    "    return \"{0:.2f}%\".format(x * 100)\n",
    "\n",
    "line_ax.yaxis.set_major_formatter(mpl.ticker.FuncFormatter(mjrFormatter))\n",
    "line_ax.set_ylabel('累计收益率(%)')\n",
    "axes[0].axhline(0,color='darkgray')\n",
    "axes[1].axhline(0,color='black');"
   ]
  },
  {
   "cell_type": "markdown",
   "metadata": {},
   "source": [
    "查看近期推荐概率top10的分析师及股票"
   ]
  },
  {
   "cell_type": "code",
   "execution_count": 20,
   "metadata": {},
   "outputs": [
    {
     "data": {
      "text/plain": [
       "monthEnd    author\n",
       "2022-08-31  于芳博       0.714286\n",
       "            张燕生       0.714286\n",
       "            刘贵军       0.675000\n",
       "            王楠        0.666667\n",
       "            赵国防       0.616667\n",
       "            鲍雁辛       0.611111\n",
       "            黄涛        0.611111\n",
       "            任文坡       0.605556\n",
       "            陶贻功       0.604167\n",
       "            李晓渊       0.600000\n",
       "Name: (2022-08-31, 0), dtype: float64"
      ]
     },
     "execution_count": 20,
     "metadata": {},
     "output_type": "execute_result"
    }
   ],
   "source": [
    "top_author:pd.Series = author_proba.loc[\"2022-08-31\"].nlargest(10)\n",
    "top_author.name = ('2022-08-31',0)\n",
    "top_author"
   ]
  },
  {
   "cell_type": "code",
   "execution_count": 21,
   "metadata": {},
   "outputs": [
    {
     "data": {
      "text/html": [
       "<div>\n",
       "<style scoped>\n",
       "    .dataframe tbody tr th:only-of-type {\n",
       "        vertical-align: middle;\n",
       "    }\n",
       "\n",
       "    .dataframe tbody tr th {\n",
       "        vertical-align: top;\n",
       "    }\n",
       "\n",
       "    .dataframe thead th {\n",
       "        text-align: right;\n",
       "    }\n",
       "</style>\n",
       "<table border=\"1\" class=\"dataframe\">\n",
       "  <thead>\n",
       "    <tr style=\"text-align: right;\">\n",
       "      <th></th>\n",
       "      <th>author</th>\n",
       "      <th>sw_l3</th>\n",
       "      <th>org_name</th>\n",
       "      <th>code</th>\n",
       "      <th>end_date</th>\n",
       "      <th>write_date</th>\n",
       "      <th>sec_short_name</th>\n",
       "      <th>monthEnd</th>\n",
       "    </tr>\n",
       "  </thead>\n",
       "  <tbody>\n",
       "    <tr>\n",
       "      <th>13084</th>\n",
       "      <td>陶贻功</td>\n",
       "      <td>其他专用设备</td>\n",
       "      <td>银河证券</td>\n",
       "      <td>002009.XSHE</td>\n",
       "      <td>2022-08-31</td>\n",
       "      <td>2022-07-28</td>\n",
       "      <td>天奇股份</td>\n",
       "      <td>2022-08-31</td>\n",
       "    </tr>\n",
       "    <tr>\n",
       "      <th>13087</th>\n",
       "      <td>任文坡</td>\n",
       "      <td>改性塑料</td>\n",
       "      <td>银河证券</td>\n",
       "      <td>002768.XSHE</td>\n",
       "      <td>2022-08-31</td>\n",
       "      <td>2022-07-28</td>\n",
       "      <td>国恩股份</td>\n",
       "      <td>2022-08-31</td>\n",
       "    </tr>\n",
       "    <tr>\n",
       "      <th>13182</th>\n",
       "      <td>王楠</td>\n",
       "      <td>通信终端及配件</td>\n",
       "      <td>兴业证券</td>\n",
       "      <td>003031.XSHE</td>\n",
       "      <td>2022-08-31</td>\n",
       "      <td>2022-07-30</td>\n",
       "      <td>中瓷电子</td>\n",
       "      <td>2022-08-31</td>\n",
       "    </tr>\n",
       "    <tr>\n",
       "      <th>13274</th>\n",
       "      <td>赵国防</td>\n",
       "      <td>啤酒</td>\n",
       "      <td>安信证券</td>\n",
       "      <td>600600.XSHG</td>\n",
       "      <td>2022-08-31</td>\n",
       "      <td>2022-08-01</td>\n",
       "      <td>青岛啤酒</td>\n",
       "      <td>2022-08-31</td>\n",
       "    </tr>\n",
       "  </tbody>\n",
       "</table>\n",
       "</div>"
      ],
      "text/plain": [
       "      author    sw_l3 org_name    ...     write_date sec_short_name   monthEnd\n",
       "13084    陶贻功   其他专用设备     银河证券    ...     2022-07-28           天奇股份 2022-08-31\n",
       "13087    任文坡     改性塑料     银河证券    ...     2022-07-28           国恩股份 2022-08-31\n",
       "13182     王楠  通信终端及配件     兴业证券    ...     2022-07-30           中瓷电子 2022-08-31\n",
       "13274    赵国防       啤酒     安信证券    ...     2022-08-01           青岛啤酒 2022-08-31\n",
       "\n",
       "[4 rows x 8 columns]"
      ]
     },
     "execution_count": 21,
     "metadata": {},
     "output_type": "execute_result"
    }
   ],
   "source": [
    "view_author_stock(top_author,prepare_data.gold_stock_frame)"
   ]
  }
 ],
 "metadata": {
  "kernelspec": {
   "display_name": "Python 3",
   "language": "python",
   "name": "python3"
  },
  "language_info": {
   "codemirror_mode": {
    "name": "ipython",
    "version": 3
   },
   "file_extension": ".py",
   "mimetype": "text/x-python",
   "name": "python",
   "nbconvert_exporter": "python",
   "pygments_lexer": "ipython3",
   "version": "3.9.7"
  },
  "toc": {
   "base_numbering": 1,
   "nav_menu": {},
   "number_sections": false,
   "sideBar": true,
   "skip_h1_title": false,
   "title_cell": "MarkDown菜单",
   "title_sidebar": "Contents",
   "toc_cell": false,
   "toc_position": {},
   "toc_section_display": true,
   "toc_window_display": false
  },
  "vscode": {
   "interpreter": {
    "hash": "49cb93f377a7abe7414b7b0f21fb3017538004a126cf690fb524202736b7fb92"
   }
  }
 },
 "nbformat": 4,
 "nbformat_minor": 2
}
